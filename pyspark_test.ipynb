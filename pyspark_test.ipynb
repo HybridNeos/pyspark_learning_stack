{
 "cells": [
  {
   "cell_type": "code",
   "execution_count": 1,
   "id": "3ac3ba4f-9413-4d22-9c09-46d05afc9e84",
   "metadata": {},
   "outputs": [],
   "source": [
    "from pyspark.sql import SparkSession, Row\n",
    "from pyspark.sql.functions import avg, col, when, row_number\n",
    "from pyspark.sql.window import Window"
   ]
  },
  {
   "cell_type": "code",
   "execution_count": 3,
   "id": "5e2af03b",
   "metadata": {},
   "outputs": [],
   "source": [
    "#docker inspect -f '{{range.NetworkSettings.Networks}}{{.IPAddress}}{{end}}' spark_spark_1\n",
    "\n",
    "with open(\"remote_ip.txt\") as f:\n",
    "    scheduler_ip = f.read()"
   ]
  },
  {
   "cell_type": "markdown",
   "id": "462f8b44",
   "metadata": {},
   "source": [
    "## GCP\n",
    "Currently uses local pyspark to connect to my existing GCP resources. Jobs can be submitted to container cluster (only cloud storage right now) but is slower due to small data volume."
   ]
  },
  {
   "cell_type": "code",
   "execution_count": 32,
   "id": "c8868726",
   "metadata": {},
   "outputs": [],
   "source": [
    "spark = (\n",
    "    SparkSession.builder.appName(\"gcp\")\n",
    "    #.config(\"spark.master\", f\"spark://{scheduler_ip}:7077\")\n",
    "    .config(\"spark.jars\", \"spark-3.3-bigquery-0.32.2.jar,gcs-connector-hadoop3-latest.jar\")\n",
    "    .config(\"spark.master\", \"local[*]\")\n",
    "    .getOrCreate()\n",
    ")\n",
    "\n",
    "spark._jsc.hadoopConfiguration().set(\"fs.gs.impl\", \"com.google.cloud.hadoop.fs.gcs.GoogleHadoopFileSystem\")\n",
    "spark._jsc.hadoopConfiguration().set(\"fs.gs.auth.service.account.enable\", \"true\")\n",
    "spark._jsc.hadoopConfiguration().set(\"google.cloud.auth.service.account.json.keyfile\",\"image_build/gcs_keyfile.json\")\n",
    "#spark._jsc.hadoopConfiguration().set(\"google.cloud.auth.service.account.json.keyfile\",\"/opt/bitnami/spark/gcs_keyfile.json\")\n",
    "\n",
    "# Allegedly needed to storage actions but doesn't populate anything\n",
    "bucket = \"dataproc-temp-us-east1-49528533322-xcoaaowy\"\n",
    "spark.conf.set('temporaryGcsBucket', bucket)"
   ]
  },
  {
   "cell_type": "code",
   "execution_count": 33,
   "id": "bc933a9e",
   "metadata": {},
   "outputs": [
    {
     "name": "stdout",
     "output_type": "stream",
     "text": [
      "+----+-------------------+--------------------+-----------------+---------+\n",
      "|RANK|               NAME|          INDUSTRIES|COUNTRY/TERRITORY|EMPLOYEES|\n",
      "+----+-------------------+--------------------+-----------------+---------+\n",
      "|  1.|Samsung Electronics|Semiconductors, E...|       South Kore|  266,673|\n",
      "|  2.|          Microsoft|IT, Internet, Sof...|    United States|  221,000|\n",
      "|  3.|                IBM|Semiconductors, E...|    United States|  250,000|\n",
      "|  4.|           Alphabet|IT, Internet, Sof...|    United States|  156,500|\n",
      "|  5.|              Apple|Semiconductors, E...|    United States|  154,000|\n",
      "+----+-------------------+--------------------+-----------------+---------+\n",
      "only showing top 5 rows\n",
      "\n"
     ]
    }
   ],
   "source": [
    "df = spark.read.csv(\"gs://mark-dbt-learn-bucket/Worlds_Best_Employers.csv\", header=True)\n",
    "df.show(5)"
   ]
  },
  {
   "cell_type": "code",
   "execution_count": 34,
   "id": "c42c1571",
   "metadata": {},
   "outputs": [
    {
     "name": "stdout",
     "output_type": "stream",
     "text": [
      "+------------------+---+-------------+----------------+------------+----------+-----------------+---------------------+--------------+-----------+-----------+-----------------------+------------------+---------------+--------------------+-------------+------------+-------------+-------------+--------------+-----------------+---------------------+--------------+-------------+------------------+------------------------+---------------------------+---------------+---------------+---------+-----------------------+------------------+------------+--------------+-------------+---------+----------+---------+--------------+----+\n",
      "|months_as_customer|age|policy_number|policy_bind_date|policy_state|policy_csl|policy_deductable|policy_annual_premium|umbrella_limit|insured_zip|insured_sex|insured_education_level|insured_occupation|insured_hobbies|insured_relationship|capital_gains|capital_loss|incident_date|incident_type|collision_type|incident_severity|authorities_contacted|incident_state|incident_city| incident_location|incident_hour_of_the_day|number_of_vehicles_involved|property_damage|bodily_injuries|witnesses|police_report_available|total_claim_amount|injury_claim|property_claim|vehicle_claim|auto_make|auto_model|auto_year|fraud_reported|_c39|\n",
      "+------------------+---+-------------+----------------+------------+----------+-----------------+---------------------+--------------+-----------+-----------+-----------------------+------------------+---------------+--------------------+-------------+------------+-------------+-------------+--------------+-----------------+---------------------+--------------+-------------+------------------+------------------------+---------------------------+---------------+---------------+---------+-----------------------+------------------+------------+--------------+-------------+---------+----------+---------+--------------+----+\n",
      "|               150| 30|       354481|      2004-11-17|          IN|   100/300|             1000|              1342.02|             0|     608425|       MALE|                     MD|    prof-specialty|           polo|           own-child|            0|           0|   2015-02-28|   Parked Car|             ?|   Trivial Damage|                 None|            VA|    Arlington|      6317 Best St|                       8|                          1|            YES|              0|        2|                     NO|              4500|         450|           450|         3600|     Saab|        93|     1999|             N|null|\n",
      "|               125| 31|       205134|      2012-12-02|          IN|  500/1000|              500|              1220.86|             0|     436784|       MALE|                     JD|     other-service|      paintball|             husband|        55400|      -40400|   2015-01-24|   Parked Car|             ?|   Trivial Damage|                 None|            NY|    Arlington|9639 Britain Ridge|                       4|                          1|            YES|              1|        2|                      ?|              4320|           0|           960|         3360|     Saab|        93|     2003|             N|null|\n",
      "+------------------+---+-------------+----------------+------------+----------+-----------------+---------------------+--------------+-----------+-----------+-----------------------+------------------+---------------+--------------------+-------------+------------+-------------+-------------+--------------+-----------------+---------------------+--------------+-------------+------------------+------------------------+---------------------------+---------------+---------------+---------+-----------------------+------------------+------------+--------------+-------------+---------+----------+---------+--------------+----+\n",
      "only showing top 2 rows\n",
      "\n"
     ]
    }
   ],
   "source": [
    "# Throws an error when connecting to container cluster\n",
    "raw_claims_df = spark.read.format(\"bigquery\") \\\n",
    "  .option(\"parentProject\", \"methodical-aura-373904\") \\\n",
    "  .option(\"dataset\", \"comp653\") \\\n",
    "  .option(\"table\", \"raw_insurance_claims\") \\\n",
    "  .load()\n",
    "\n",
    "raw_claims_df.show(2)"
   ]
  },
  {
   "cell_type": "code",
   "execution_count": 35,
   "id": "a597556f",
   "metadata": {},
   "outputs": [],
   "source": [
    "#Stop the Spark session\n",
    "spark.stop()"
   ]
  }
 ],
 "metadata": {
  "kernelspec": {
   "display_name": "Python 3 (ipykernel)",
   "language": "python",
   "name": "python3"
  },
  "language_info": {
   "codemirror_mode": {
    "name": "ipython",
    "version": 3
   },
   "file_extension": ".py",
   "mimetype": "text/x-python",
   "name": "python",
   "nbconvert_exporter": "python",
   "pygments_lexer": "ipython3",
   "version": "3.9.16"
  }
 },
 "nbformat": 4,
 "nbformat_minor": 5
}
